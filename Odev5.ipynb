{
  "nbformat": 4,
  "nbformat_minor": 0,
  "metadata": {
    "colab": {
      "name": "Odev5",
      "provenance": [],
      "collapsed_sections": []
    },
    "kernelspec": {
      "name": "python3",
      "display_name": "Python 3"
    },
    "language_info": {
      "name": "python"
    }
  },
  "cells": [
    {
      "cell_type": "code",
      "execution_count": null,
      "metadata": {
        "id": "C7_jQGdZp2IF",
        "colab": {
          "base_uri": "https://localhost:8080/"
        },
        "outputId": "1fdef2de-7155-4ad0-f538-424fb8e97eab"
      },
      "outputs": [
        {
          "output_type": "stream",
          "name": "stdout",
          "text": [
            "Meslek bulma uygulamasına hoşgeldiniz.\n",
            "Bu oyun bazı sorular soracak ve bu sorulara sorduğunuz cevaplara göre en sonda size mesleğinizi söyleyeceğiz.\n",
            "En çok hangi dersi seviyorsunuz.\n",
            "A)Bilgisayar\n",
            "B)Biyoloji\n",
            "C)Fizik\n",
            "Cevabınızı yazınız:A\n",
            "En çok hangisini izlemek ilginizi çekiyor.\n",
            "A)Yazılım videoları izlemek\n",
            "B)deney videoları izlemek\n",
            "C)Ameliyat videoları izlemek\n",
            "Cevabınızı yazınız:A\n",
            "Yazılımcısınız\n"
          ]
        }
      ],
      "source": [
        "\n",
        "import time\n",
        "\n",
        "print(\"Meslek bulma uygulamasına hoşgeldiniz.\\nBu oyun bazı sorular soracak ve bu sorulara sorduğunuz cevaplara göre en sonda size mesleğinizi söyleyeceğiz.\")\n",
        "def sorular():\n",
        "    print(\"En çok hangi dersi seviyorsunuz.\\nA)Bilgisayar\\nB)Biyoloji\\nC)Fizik\")\n",
        "    soru_1=input(\"Cevabınızı yazınız:\")\n",
        "    print(\"En çok hangisini izlemek ilginizi çekiyor.\\nA)Yazılım videoları izlemek\\nB)deney videoları izlemek\\nC)Ameliyat videoları izlemek\")\n",
        "    soru_2=input(\"Cevabınızı yazınız:\")\n",
        "    if soru_1==\"A\" and soru_2==\"A\":\n",
        "        print(\"Yazılımcısınız\")\n",
        "    elif soru_1==\"B\" and soru_2==\"C\":\n",
        "        print(\"Elektirik elektronik mühendisisiniz.\")\n",
        "    elif soru_1==\"C \"and soru_2==\"B\":\n",
        "        print(\"fizik öğretmenisiniz...\")\n",
        "    \n",
        "\n",
        "sorular()"
      ]
    }
  ]
}