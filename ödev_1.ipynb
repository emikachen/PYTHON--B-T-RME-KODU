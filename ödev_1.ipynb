{
  "nbformat": 4,
  "nbformat_minor": 0,
  "metadata": {
    "colab": {
      "name": "ödev_1",
      "provenance": [],
      "collapsed_sections": []
    },
    "kernelspec": {
      "name": "python3",
      "display_name": "Python 3"
    },
    "language_info": {
      "name": "python"
    }
  },
  "cells": [
    {
      "cell_type": "code",
      "source": [
        "import random\n",
        "import string\n",
        "rakamlar=\"0123456789\"\n",
        "semboller=string.punctuation\n",
        "küçük_harf=string.ascii_lowercase\n",
        "büyük_harf=string.ascii_uppercase\n",
        "tüm_karakterler=[rakamlar,semboller,küçük_harf,büyük_harf]\n",
        "sifre=[]\n",
        "for j in range(4):\n",
        "  for i in range(4):\n",
        "    sifre+=tüm_karakterler[j][random.randint(0,9)]\n",
        "\n",
        "random.shuffle(sifre)\n",
        "yeni_sifre=\"\"\n",
        "yeni_sifre =yeni_sifre.join(sifre)\n",
        "print(\"oluturulan 16 haneli şifreniz ...=\",yeni_sifre)"
      ],
      "metadata": {
        "colab": {
          "base_uri": "https://localhost:8080/"
        },
        "id": "TBx4EAgiCodt",
        "outputId": "e36aa2db-d54b-4acc-ac4d-62116bd77876"
      },
      "execution_count": null,
      "outputs": [
        {
          "output_type": "stream",
          "name": "stdout",
          "text": [
            "oluturulan 16 haneli şifreniz ...= &3b)ia5F\"6i7\"FIJ\n"
          ]
        }
      ]
    },
    {
      "cell_type": "code",
      "source": [
        ""
      ],
      "metadata": {
        "id": "XXJiCs-PCpDY"
      },
      "execution_count": null,
      "outputs": []
    },
    {
      "cell_type": "code",
      "source": [
        ""
      ],
      "metadata": {
        "id": "nMLnGZ1CHUa4"
      },
      "execution_count": null,
      "outputs": []
    }
  ]
}