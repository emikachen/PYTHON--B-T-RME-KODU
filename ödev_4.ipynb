{
  "nbformat": 4,
  "nbformat_minor": 0,
  "metadata": {
    "colab": {
      "name": "ödev_4",
      "provenance": [],
      "collapsed_sections": []
    },
    "kernelspec": {
      "name": "python3",
      "display_name": "Python 3"
    },
    "language_info": {
      "name": "python"
    }
  },
  "cells": [
    {
      "cell_type": "code",
      "execution_count": null,
      "metadata": {
        "colab": {
          "base_uri": "https://localhost:8080/"
        },
        "id": "wM-ozPJxIzB3",
        "outputId": "ade5e4d0-86bb-4db3-c906-95b6e284bb24"
      },
      "outputs": [
        {
          "output_type": "stream",
          "name": "stdout",
          "text": [
            "OYUNUMUZA HOŞGELDİZİN...:)\n",
            "3 adet sayı girerek bunların toplamlarının  bigisayarın tuttuğu sayı(0 ile 100 arasında ) eşit olması durumunda oyunu kazanacaksınız...:) \n",
            "1. sayıyı giriniz...=83\n",
            "2.sayıyı giriniz....=1\n",
            "3.sayıyı giriniz....=1\n",
            "girdiğiniz sayıların toplamı...= 85\n",
            "daha büyük tahminlerde bulunmalısın\n",
            "1. sayıyı giriniz...=91\n",
            "2.sayıyı giriniz....=1\n",
            "3.sayıyı giriniz....=1\n",
            "girdiğiniz sayıların toplamı...= 93\n",
            "daha büyük tahminlerde bulunmalısın\n",
            "1. sayıyı giriniz...=95\n",
            "2.sayıyı giriniz....=1\n",
            "3.sayıyı giriniz....=1\n",
            "girdiğiniz sayıların toplamı...= 97\n",
            "daha büyük tahminlerde bulunmalısın\n",
            "1. sayıyı giriniz...=97\n",
            "2.sayıyı giriniz....=1\n",
            "3.sayıyı giriniz....=1\n",
            "girdiğiniz sayıların toplamı...= 99\n",
            "daha küçük tahminlerde bulunmalısın\n",
            "1. sayıyı giriniz...=96\n",
            "2.sayıyı giriniz....=1\n",
            "3.sayıyı giriniz....=1\n",
            "girdiğiniz sayıların toplamı...= 98\n",
            "bilgiayarın seçtiği sayı  =  98\n",
            "senin tahminin =   98\n",
            "oyunu kazandın ......\n",
            "tahmin sayısı ...= 5\n"
          ]
        }
      ],
      "source": [
        "import random\n",
        "sayac=0\n",
        "tahmin=random.randint(1,100)\n",
        "\n",
        "print(\"OYUNUMUZA HOŞGELDİZİN...:)\")\n",
        "print(\"3 adet sayı girerek bunların toplamlarının  bigisayarın tuttuğu sayı(0 ile 100 arasında ) eşit olması durumunda oyunu kazanacaksınız...:) \")\n",
        "while True:\n",
        "  \n",
        "\n",
        "  sayac+=1\n",
        "  sayı_1=int(input(\"1. sayıyı giriniz...=\",))\n",
        "  sayı_2=int(input(\"2.sayıyı giriniz....=\"))\n",
        "  sayı_3=int(input(\"3.sayıyı giriniz....=\"))\n",
        "  toplam=sayı_1+sayı_2+sayı_3\n",
        "  print(\"girdiğiniz sayıların toplamı...=\",toplam)\n",
        "\n",
        "  if tahmin < toplam:\n",
        "    print(\"daha küçük tahminlerde bulunmalısın\")\n",
        "    continue\n",
        "  elif tahmin > toplam:\n",
        "    print(\"daha büyük tahminlerde bulunmalısın\")\n",
        "    continue\n",
        "  else:\n",
        "    print(\"bilgiayarın seçtiği sayı  = \",tahmin)\n",
        "    print(\"senin tahminin =  \",toplam)\n",
        "    print(\"oyunu kazandın ......\")\n",
        "    print(\"tahmin sayısı ...=\",sayac)\n",
        "    break\n",
        "\n",
        "\n",
        "\n",
        "\n",
        "\n",
        "else:\n",
        "  print(\"kaybettin.. bilgiayarın tuttuğu sayı ==\",gizli_sayı)"
      ]
    }
  ]
}