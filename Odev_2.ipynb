{
  "nbformat": 4,
  "nbformat_minor": 0,
  "metadata": {
    "colab": {
      "name": "Odev_2",
      "provenance": [],
      "collapsed_sections": []
    },
    "kernelspec": {
      "name": "python3",
      "display_name": "Python 3"
    },
    "language_info": {
      "name": "python"
    }
  },
  "cells": [
    {
      "cell_type": "code",
      "execution_count": null,
      "metadata": {
        "id": "0MGfPGLfwzzD"
      },
      "outputs": [],
      "source": [
        "print(\"Bu uygulamada yazarak aylık giderlerinizi öğrenebilirsiniz ve şu şekilde yazmalısınız: 'elektirikfaturası','kırtasiye','sufaturası',  'mutfakgideri','giyecek'.\")\n",
        "def elektirikfaturası():\n",
        " print(\"Ekektirik faturasının fiyatı: 600\")\n",
        "def kırtasiye():\n",
        " print(\"Kırtasiye faturası fityatı: 407\")\n",
        "def sufaturası():\n",
        " print(\"Su faturasının fiyatı: 389TL\")\n",
        "def mutfakgideri():\n",
        " print(\"Mutfak giderinin fiyatı: 3000TL\")\n",
        "def giyecek():\n",
        " print(\"Giyecek faturasının fiyatı: 5000TL\")\n",
        "b=input(\"Lütfen görmek istediğiniz gideri girin\")\n",
        "if b==\"sufaturası\":\n",
        " sufaturası()\n",
        "elif b==\"elektirikfaturası\":\n",
        " elektirikfaturası()\n",
        "elif b==\"kırtasiye\":\n",
        " kırtasiye()\n",
        "elif b==\"mutfakgideri\":\n",
        " mutfakgideri()\n",
        "elif b==\"giyecek\":\n",
        " giyecek()\n",
        "else:\n",
        " print(\"Değeri olmayan bir karakter dizisi girdiniz.\")"
      ]
    }
  ]
}